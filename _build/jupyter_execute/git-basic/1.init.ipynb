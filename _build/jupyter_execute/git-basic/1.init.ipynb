{
 "cells": [
  {
   "cell_type": "markdown",
   "metadata": {},
   "source": [
    "# 获取 Git 仓库\n",
    "\n",
    "```{note}\n",
    "通常有两种获取 Git 项目仓库的方式：\n",
    "\n",
    "1. 将尚未进行版本控制的本地目录转换为 Git 目录\n",
    "2. 从其它服务器克隆一个已存在的 Git 仓库\n",
    "\n",
    "两种方式都会在你的本地机器上得到一个工作就绪的 Git 仓库。\n",
    "```"
   ]
  },
  {
   "cell_type": "markdown",
   "metadata": {},
   "source": [
    "## 在已存在目录中初始化仓库\n",
    "\n",
    "先进入该项目目录：\n",
    "\n",
    "```\n",
    "$ cd /Users/user/my_project\n",
    "```\n",
    "\n",
    "之后执行：\n",
    "\n",
    "```\n",
    "$ git init\n",
    "```\n",
    "\n",
    "该命令将创建一个名为 .git 的子目录，子目录内的文件是 Git 仓库的骨干。但是，这时候，我们仅仅是做了一个初始化的操作，你的项目里的文件还没有被跟踪。\n",
    "\n",
    "如果在一个已存在文件的文件夹中进行版本控制，你应该开始跟踪这些文件并进行初始提交。可以通过 `git add` 命令来指定需要跟踪的文件：\n",
    "\n",
    "```\n",
    "$ git add *.c\n",
    "$ git add LICENSE\n",
    "$ git commit -m 'initial project version'\n",
    "```\n",
    "\n",
    "现在，你已经得到一个存在被跟踪文件与初始提交的 Git 仓库了。"
   ]
  },
  {
   "cell_type": "markdown",
   "metadata": {},
   "source": [
    "## 克隆现有的仓库\n",
    "\n",
    "如果你想获得一份已经存在了的 Git 仓库的拷贝，这时就要用到 `git clone` 命令。当你执行 `git clone` 命令时，默认配置下远程 Git 仓库中的每一个文件的每一个版本都将被拉取下来。\n",
    "\n",
    "克隆仓库的命令是 `git clone <url>`。比如，要克隆 Git 的链接库 libgit2，可以用下面的命令：\n",
    "\n",
    "```\n",
    "$ git clone https://github.com/libgit2/libgit2\n",
    "```\n",
    "\n",
    "这会在当前目录下创建一个名为 libgit2 的目录，并在这个目录下初始化一个 .git 文件夹，从远程仓库拉取下的所有数据会放入 .git 文件夹，然后从中读取最新版本的文件的拷贝。如果你进入到这个新建的 libgit2 文件夹，你会发现所有的项目文件已经在里面了，准备就绪等待后续的开发和使用。\n",
    "\n",
    "如果想在克隆远程仓库的时候，自定义本地仓库的名字：\n",
    "\n",
    "```\n",
    "$ git clone https://github.com/libgit2/libgit2 mylibgit\n",
    "```\n",
    "\n",
    "这会执行与上一条命令相同的操作，但目标目录变成了 mylibgit。\n",
    "\n",
    "Git 支持多种数据传输协议。上面的例子使用的是 `https://` 协议，不过你也可以使用 `git://` 协议或者 SSH 传输协议，比如 `user@server:path/to/repo.git`。"
   ]
  },
  {
   "cell_type": "code",
   "execution_count": null,
   "metadata": {},
   "outputs": [],
   "source": []
  }
 ],
 "metadata": {
  "kernelspec": {
   "display_name": "Python 3",
   "language": "python",
   "name": "python3"
  },
  "language_info": {
   "codemirror_mode": {
    "name": "ipython",
    "version": 3
   },
   "file_extension": ".py",
   "mimetype": "text/x-python",
   "name": "python",
   "nbconvert_exporter": "python",
   "pygments_lexer": "ipython3",
   "version": "3.8.3"
  }
 },
 "nbformat": 4,
 "nbformat_minor": 4
}