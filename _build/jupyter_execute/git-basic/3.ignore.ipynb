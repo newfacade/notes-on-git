{
 "cells": [
  {
   "cell_type": "markdown",
   "id": "299a60ed-9d67-4643-834c-1e8da7d9e0ca",
   "metadata": {},
   "source": [
    "# 忽略文件\n",
    "\n",
    "\n",
    "```{note}\n",
    "一般我们总会有些文件无需纳入 Git 的管理，也不希望它们出现在未跟踪列表。通常都是些自动生成的文件，如日志文件。在这种情况下，我们可以创建一个名为 .gitignore 的文件，列出要忽略的文件的模式。\n",
    "```\n",
    "\n",
    "来看一个实际的 .gitignore 例子：\n",
    "\n",
    "```\n",
    "$ cat .gitignore\n",
    "*.[oa]\n",
    "*~\n",
    "```\n",
    "\n",
    "第一行告诉 Git 忽略所有以 *.o* 和 *.a* 结尾的文件。第二行告诉 Git 忽略所有名字以波浪符 (~) 结尾的文件。\n",
    "\n",
    "```{tip}\n",
    "要养成一开始就为你的新仓库设置好 .gitignore 文件的习惯，以免将来误提交这类无用的文件。\n",
    "```\n",
    "\n",
    "文件 .gitignore 的格式规范如下：\n",
    "\n",
    "* 所有空行或者以 `#` 开头的行都会被 Git 忽略。\n",
    "* 可以使用标准的 glob 模式匹配，它会被递归地应用在整个工作区中。\n",
    "* 匹配模式可以以 `/` 开头防止递归。\n",
    "* 匹配模式可以以 `/` 结尾指定目录。\n",
    "* 要忽略指定模式之外的文件或目录，可以在模式前加上叹号 `!` 取反。\n",
    "\n",
    "所谓的 glob 模式是指 shell 所使用的简化了的正则表达式：\n",
    "\n",
    "* 星号 `*` 匹配零个或多个任意字符；\n",
    "* `[abc]` 匹配任何一个列在方括号中的字符；\n",
    "* 问号 `?` 只匹配一个任意字符；\n",
    "* 如果在方括号中使用短划线分隔两个字符，表示所有在这两个字符范围内的都可以匹配（比如 `[0-9]` 表示匹配所有 0 到 9 的数字）；\n",
    "* 使用两个星号 `**` 表示匹配任意中间目录，比如 `a/**/z` 可以匹配 `a/z`、`a/b/c/z` 等。\n",
    "\n",
    "例子：\n",
    "\n",
    "```\n",
    "# 忽略所有的 .a 文件\n",
    "*.a\n",
    "\n",
    "# 但跟踪所有的 lib.a，即便你在前面忽略了 .a 文件\n",
    "!lib.a\n",
    "\n",
    "# 只忽略当前目录下的 TODO 文件，而不忽略 subdir/TODO\n",
    "/TODO\n",
    "\n",
    "# 忽略任何目录下名为 build 的文件夹\n",
    "build/\n",
    "\n",
    "# 忽略 doc/notes.txt，但不忽略 doc/server/arch.txt\n",
    "doc/*.txt\n",
    "\n",
    "# 忽略 doc/ 目录及其所有子目录下的 .pdf 文件\n",
    "doc/**/*.pdf\n",
    "```"
   ]
  },
  {
   "cell_type": "code",
   "execution_count": null,
   "id": "bec73aa6-50fa-4087-87a9-c808c461d4c1",
   "metadata": {},
   "outputs": [],
   "source": []
  }
 ],
 "metadata": {
  "kernelspec": {
   "display_name": "Python 3",
   "language": "python",
   "name": "python3"
  },
  "language_info": {
   "codemirror_mode": {
    "name": "ipython",
    "version": 3
   },
   "file_extension": ".py",
   "mimetype": "text/x-python",
   "name": "python",
   "nbconvert_exporter": "python",
   "pygments_lexer": "ipython3",
   "version": "3.8.3"
  }
 },
 "nbformat": 4,
 "nbformat_minor": 5
}