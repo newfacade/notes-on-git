{
 "cells": [
  {
   "cell_type": "markdown",
   "id": "45169326-e063-4907-8f6c-fb9dbde3a907",
   "metadata": {},
   "source": [
    "# 分支管理\n",
    "\n",
    "`git branch` 命令不止可以创建和删除分支。如果不加任何参数运行，会得到当前所有分支的一个列表：\n",
    "\n",
    "```\n",
    "$ git branch\n",
    "  iss53\n",
    "* master\n",
    "  testing\n",
    "```\n",
    "\n",
    "注意 master 分支前的 * 字符：它表示现在检出那个分支。这意味着如果在这时候提交，master 分支将会随着新的工作向前移动。如果要查看每个分支的最后一个提交，可以运行 `git branch -v` 命令：\n",
    "\n",
    "```\n",
    "$ git branch -v\n",
    "  iss53   93b412c fix javascript issue\n",
    "* master  7a98805 Merge branch 'iss53'\n",
    "  testing 782fd34 add scott to the author list in the readmes\n",
    "```\n",
    "\n",
    "--merged 和 --no-merged 这两个有用的选项可以过滤这个列表中已经合并或尚未合并到当前分支的分支：\n",
    "\n",
    "```\n",
    "$ git branch --merged\n",
    "  iss53\n",
    "* master\n",
    "```\n",
    "\n",
    "因为之前已经合并了 iss53 分支。\n",
    "\n",
    "```\n",
    "$ git branch --no-merged\n",
    "  testing\n",
    "```\n",
    "\n",
    "因为 testing 分支包含了还未合并的工作。"
   ]
  },
  {
   "cell_type": "code",
   "execution_count": null,
   "id": "9febffe0-bab5-41d1-965e-deceadcb82cc",
   "metadata": {},
   "outputs": [],
   "source": []
  }
 ],
 "metadata": {
  "kernelspec": {
   "display_name": "Python 3",
   "language": "python",
   "name": "python3"
  },
  "language_info": {
   "codemirror_mode": {
    "name": "ipython",
    "version": 3
   },
   "file_extension": ".py",
   "mimetype": "text/x-python",
   "name": "python",
   "nbconvert_exporter": "python",
   "pygments_lexer": "ipython3",
   "version": "3.8.3"
  }
 },
 "nbformat": 4,
 "nbformat_minor": 5
}
