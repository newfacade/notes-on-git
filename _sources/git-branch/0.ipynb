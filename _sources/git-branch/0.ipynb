{
 "cells": [
  {
   "cell_type": "markdown",
   "id": "b9d44a5d-bb8c-4fec-9c25-b8ad71e1c760",
   "metadata": {},
   "source": [
    "# Git 分支\n",
    "\n",
    "```{note}\n",
    "几乎所有的版本控制系统都以某种程度支持分支。使用分支意味着你可以把你的开发工作从主线上分离开来，以免影响开发主线。在很多版本控制系统中，这是一个略微低效的过程。\n",
    "\n",
    "有人把 Git 分支模型称为它的 “必杀技特性”，Git 处理分支的方式可谓是难以置信的轻量，创建新分支这一操作几乎能在瞬间完成，并且在不同分支之间切换操作也是一样便捷。Git 鼓励在工作流程中频繁地使用分支与合并，哪怕一天之内进行许多次。\n",
    "```\n",
    "\n",
    "```{tableofcontents}\n",
    "```"
   ]
  },
  {
   "cell_type": "code",
   "execution_count": null,
   "id": "4369f494-b2c4-431d-8a53-2b5ae584b763",
   "metadata": {},
   "outputs": [],
   "source": []
  }
 ],
 "metadata": {
  "kernelspec": {
   "display_name": "Python 3",
   "language": "python",
   "name": "python3"
  },
  "language_info": {
   "codemirror_mode": {
    "name": "ipython",
    "version": 3
   },
   "file_extension": ".py",
   "mimetype": "text/x-python",
   "name": "python",
   "nbconvert_exporter": "python",
   "pygments_lexer": "ipython3",
   "version": "3.8.3"
  }
 },
 "nbformat": 4,
 "nbformat_minor": 5
}
