{
 "cells": [
  {
   "cell_type": "markdown",
   "id": "c271a88d-c304-41a5-88b9-fae5dce95276",
   "metadata": {},
   "source": [
    "# 安装 Git\n",
    "\n",
    "```{note}\n",
    "在你开始使用 Git 前，需要将它安装到你的计算机上。即使已经安装，最好将它升级到最新的版本。\n",
    "```"
   ]
  },
  {
   "cell_type": "markdown",
   "id": "53809f34-7f38-4577-9c64-b14a0aebced9",
   "metadata": {},
   "source": [
    "## 在 Linux 上安装\n",
    "\n",
    "你可以使用发行版包含的基础软件包管理工具来安装 Git。以 Fedora 为例，如果你在使用它（或者 CentOS 等与之紧密相关的发行版），你可以使用 dnf：\n",
    "\n",
    "```\n",
    "$ sudo dnf install git-all\n",
    "```\n",
    "\n",
    "如果你在基于 Debian 的发行版上，如 Ubuntu，请使用 apt：\n",
    "\n",
    "```\n",
    "$ sudo apt install git-all\n",
    "```\n",
    "\n",
    "要了解更多信息，参看：<https://git-scm.com/download/linux>"
   ]
  },
  {
   "cell_type": "markdown",
   "id": "4a60c9ab-a981-440a-b749-a1fb1b942874",
   "metadata": {},
   "source": [
    "## 在 MacOS 上安装\n",
    "\n",
    "在 Mavericks（10.9）或更高版本的系统中，在 Teriminal 里尝试首次运行 git 命令即可。\n",
    "\n",
    "```\n",
    "$ git --version\n",
    "```\n",
    "\n",
    "如果没有安装过命令行开发者工具，将会提示你安装。\n",
    "\n",
    "如果你想安装更新的版本，官方维护的 macOS Git 安装程序可以在 Git 官方网站下载，网址为 <https://git-scm.com/download/mac>。\n",
    "\n",
    "![](../images/intro4.png)"
   ]
  },
  {
   "cell_type": "markdown",
   "id": "4df099f1-5ef2-47c8-bf8d-9081ff281703",
   "metadata": {},
   "source": [
    "## 在 Windows 上安装\n",
    "\n",
    "在 Windows 上安装 Git 也有几种方法。官方版本可以在 Git 官网下载，打开 <https://git-scm.com/download/win>，下载会自动开始。"
   ]
  },
  {
   "cell_type": "code",
   "execution_count": null,
   "id": "d0e6f7be-7934-451f-ba12-3f891bde946b",
   "metadata": {},
   "outputs": [],
   "source": []
  }
 ],
 "metadata": {
  "kernelspec": {
   "display_name": "Python 3",
   "language": "python",
   "name": "python3"
  },
  "language_info": {
   "codemirror_mode": {
    "name": "ipython",
    "version": 3
   },
   "file_extension": ".py",
   "mimetype": "text/x-python",
   "name": "python",
   "nbconvert_exporter": "python",
   "pygments_lexer": "ipython3",
   "version": "3.8.3"
  }
 },
 "nbformat": 4,
 "nbformat_minor": 5
}
