{
 "cells": [
  {
   "cell_type": "markdown",
   "id": "15502ca2-0f5c-4742-803d-2f0107b4f269",
   "metadata": {},
   "source": [
    "# 初次运行 Git 前的配置\n",
    "\n",
    "```{note}\n",
    "既然已经在系统上安装了 Git，你会想要做几件事来定制你的 Git 环境。每台计算机上只需配置一次，程序升级时会保留配置信息。你可以在任何时候通过再次运行命令来修改它们。\n",
    "```"
   ]
  },
  {
   "cell_type": "markdown",
   "id": "4f8ca904-0b62-4df8-85ad-f556b0193465",
   "metadata": {},
   "source": [
    "## 用户信息\n",
    "\n",
    "安装完 Git 之后，要做的第一件事就是设置你的用户名和邮件地址。这一点`很重要`，因为每一个 Git 提交都会使用这些信息，它们会写入到你的每一次提交中，不可更改：\n",
    "\n",
    "```\n",
    "$ git config --global user.name \"John Doe\"\n",
    "$ git config --global user.email johndoe@example.com\n",
    "```\n",
    "\n",
    "如果使用了 `--global` 选项，那么该命令只需要运行一次，之后无论你在该系统上做任何事情，Git 都会使用那些信息。当你想针对特定项目使用不同的用户名和邮件地址时，可以在那个项目目录下运行没有 `--global` 选项的命令来配置。"
   ]
  },
  {
   "cell_type": "markdown",
   "id": "fe0836dc-9065-44a8-aab8-674f018a3c23",
   "metadata": {},
   "source": [
    "## 检查配置信息\n",
    "\n",
    "如果想要检查你的配置，可以使用 `git config --list` 命令来列出所有 Git 当时能找到的配置。\n",
    "\n",
    "```\n",
    "$ git config --list\n",
    "user.name=John Doe\n",
    "user.email=johndoe@example.com\n",
    "color.status=auto\n",
    "color.branch=auto\n",
    "color.interactive=auto\n",
    "color.diff=auto\n",
    "...\n",
    "```\n",
    "\n",
    "你可以通过输入 `git config <key>` 来检查 Git 的某一项配置：\n",
    "\n",
    "```\n",
    "$ git config user.name\n",
    "John Doe\n",
    "```"
   ]
  },
  {
   "cell_type": "code",
   "execution_count": null,
   "id": "fb5c1833-451f-4053-b358-1bfbf6eb7db9",
   "metadata": {},
   "outputs": [],
   "source": []
  }
 ],
 "metadata": {
  "kernelspec": {
   "display_name": "Python 3",
   "language": "python",
   "name": "python3"
  },
  "language_info": {
   "codemirror_mode": {
    "name": "ipython",
    "version": 3
   },
   "file_extension": ".py",
   "mimetype": "text/x-python",
   "name": "python",
   "nbconvert_exporter": "python",
   "pygments_lexer": "ipython3",
   "version": "3.8.3"
  }
 },
 "nbformat": 4,
 "nbformat_minor": 5
}
