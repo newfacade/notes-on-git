{
 "cells": [
  {
   "cell_type": "markdown",
   "id": "8895c3c5-93db-49d6-9826-7288a5642480",
   "metadata": {},
   "source": [
    "# 起步\n",
    "\n",
    "```{note}\n",
    "本章为 Git 入门。我们从介绍版本控制开始，然后讲解如何在你的系统上运行 Git，最后是关于如何设置 Git 以便开始工作。\n",
    "```\n",
    "\n",
    "```{tableofcontents}\n",
    "```"
   ]
  },
  {
   "cell_type": "code",
   "execution_count": null,
   "id": "22c4004a-51a2-416b-90a1-e7cea6d379dc",
   "metadata": {},
   "outputs": [],
   "source": []
  }
 ],
 "metadata": {
  "kernelspec": {
   "display_name": "Python 3",
   "language": "python",
   "name": "python3"
  },
  "language_info": {
   "codemirror_mode": {
    "name": "ipython",
    "version": 3
   },
   "file_extension": ".py",
   "mimetype": "text/x-python",
   "name": "python",
   "nbconvert_exporter": "python",
   "pygments_lexer": "ipython3",
   "version": "3.8.3"
  }
 },
 "nbformat": 4,
 "nbformat_minor": 5
}
