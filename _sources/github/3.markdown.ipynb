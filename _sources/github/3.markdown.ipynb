{
 "cells": [
  {
   "cell_type": "markdown",
   "id": "cd43c6dd-dc79-4ab7-9e96-effca4c9a609",
   "metadata": {},
   "source": [
    "# GitHub 风格的 Markdown\n",
    "\n",
    "```{note}\n",
    "In Issue and Pull Request descriptions, comments, code comments and more, you can use what is called GitHub flavored Markdown. The GitHub flavor of Markdown adds more things you can do beyond the basic Markdown syntax.\n",
    "```"
   ]
  },
  {
   "cell_type": "markdown",
   "id": "fe112bfc-62dc-4663-804d-d8a01ca81fb4",
   "metadata": {
    "jp-MarkdownHeadingCollapsed": true,
    "tags": []
   },
   "source": [
    "## 任务列表\n",
    "\n",
    "你可以这样创建一个任务列表：\n",
    "\n",
    "```\n",
    "- [X] Write the code\n",
    "- [ ] Write all the tests\n",
    "- [ ] Document the code\n",
    "```\n",
    "\n",
    "它将被渲染为这样：\n",
    "\n",
    "![](../images/markdown1.png)"
   ]
  },
  {
   "cell_type": "markdown",
   "id": "bf3face5-9a34-4743-ab3d-63aa241c4145",
   "metadata": {},
   "source": [
    "## 表情符号\n",
    "\n",
    "我们可以在评论中使用表情符号。如果你在输入评论时以 `:` 开头，自动完成器会帮助你找到你需要的表情。\n",
    "\n",
    "![](../images/markdown2.png)"
   ]
  },
  {
   "cell_type": "markdown",
   "id": "82887831-289b-47c5-9bc6-a978a4d67d05",
   "metadata": {},
   "source": [
    "## 图片\n",
    "\n",
    "从技术成面来说，这并不是 GitHub 风格 Markdown 的功能，但是也很有用。如果不想使用 Markdown 语法来插入图片，Github 允许你通过拖拽图片到文本区来插入图片。\n",
    "\n",
    "![](../images/markdown3.png)"
   ]
  },
  {
   "cell_type": "code",
   "execution_count": null,
   "id": "e17ba4ed-b03d-4a5a-98fb-1792747111c0",
   "metadata": {},
   "outputs": [],
   "source": []
  }
 ],
 "metadata": {
  "kernelspec": {
   "display_name": "Python 3",
   "language": "python",
   "name": "python3"
  },
  "language_info": {
   "codemirror_mode": {
    "name": "ipython",
    "version": 3
   },
   "file_extension": ".py",
   "mimetype": "text/x-python",
   "name": "python",
   "nbconvert_exporter": "python",
   "pygments_lexer": "ipython3",
   "version": "3.8.3"
  }
 },
 "nbformat": 4,
 "nbformat_minor": 5
}
