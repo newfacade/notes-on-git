{
 "cells": [
  {
   "cell_type": "markdown",
   "id": "ffe10f58-3f97-4009-8146-82a95188ce48",
   "metadata": {},
   "source": [
    "# GitHub - 管理组织\n",
    "\n",
    "```{note}\n",
    "除了个人账户之外，GitHub 还提供被称为组织（Organizations）的账户。组织账户和个人账户一样都有一个用于存放所拥有项目的命名空间，它代表了一组共同拥有多个项目的人，同时也提供一些工具用于对成员进行分组管理。通常，这种账户被用于开源群组（如 “perl”），或者公司（如 “google” 或 “twitter”）。\n",
    "```"
   ]
  },
  {
   "cell_type": "markdown",
   "id": "374ae28f-adb7-4372-b540-f1892c9c674a",
   "metadata": {},
   "source": [
    "## 组织的基本知识\n",
    "\n",
    "我们可以很简单地创建一个组织，只需要点击 GitHub 页面右上角的 “+” 图标，在菜单中选择 “New Organization” 即可。\n",
    "\n",
    "![](../images/org1.png)\n",
    "\n",
    "首先你必须提供组织的名称和主要联系邮箱。然后，如果你希望的话，也可以邀请其他用户作为共同拥有人。\n",
    "\n",
    "完成以上步骤后，你就会拥有一个全新的组织，类似于个人账户。如果组织的所有内容都是开源的，那么你就可以免费使用这个组织。\n",
    "\n",
    "作为一个组织的拥有者，当你派生一个仓库的时候，你可以选择把它派生到你的组织的命名空间内。当你新建版本库时，你可以把它存放到你的个人账户或你拥有的组织内。同时，你也会自动地 “关注” 所有这些组织内的新仓库。"
   ]
  },
  {
   "cell_type": "markdown",
   "id": "bc51a1c7-9d93-4bbf-b929-81745d723216",
   "metadata": {},
   "source": [
    "## 团队\n",
    "\n",
    "下面我们来说一些组织和个人账户不同的地方。组织使用团队（Teams）来管理成员，团队就是组织中的一组个人账户和仓库，以及团队成员对这些仓库的访问权限。\n",
    "\n",
    "组织页面主要由一个面板构成，这个面板包含了这个组织内的所有仓库，用户和团队。\n",
    "\n",
    "![](../images/org2.png)\n",
    "\n",
    "你可以点击组织页面右边的团队侧边栏来管理你的团队。点击之后，你会进入一个新页面，在这里你可以添加新成员和仓库到团队中，或者管理团队的访问权限和其他设置。每个团队对于仓库可以有只读、读写和管理三种权限。"
   ]
  },
  {
   "cell_type": "code",
   "execution_count": null,
   "id": "bbe37871-47ed-4e3e-97ac-736ccbf4c573",
   "metadata": {},
   "outputs": [],
   "source": []
  }
 ],
 "metadata": {
  "kernelspec": {
   "display_name": "Python 3",
   "language": "python",
   "name": "python3"
  },
  "language_info": {
   "codemirror_mode": {
    "name": "ipython",
    "version": 3
   },
   "file_extension": ".py",
   "mimetype": "text/x-python",
   "name": "python",
   "nbconvert_exporter": "python",
   "pygments_lexer": "ipython3",
   "version": "3.8.3"
  }
 },
 "nbformat": 4,
 "nbformat_minor": 5
}
