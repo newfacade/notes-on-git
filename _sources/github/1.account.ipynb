{
 "cells": [
  {
   "cell_type": "markdown",
   "id": "a8be37ae-0eed-4fd3-89c9-6e00355a693e",
   "metadata": {},
   "source": [
    "# 账户的创建和配置\n",
    "\n",
    "你所需要做的第一件事是访问 <https://github.com/> 创建一个免费账户。选择一个未被占用的用户名，提供一个电子邮件地址和密码进行注册。注册之后需要进行邮箱验证，这很重要。"
   ]
  },
  {
   "cell_type": "markdown",
   "id": "950162fc-ec49-4aa2-ac80-54e691868295",
   "metadata": {},
   "source": [
    "## SSH 访问\n",
    "\n",
    "现在，你完全可以使用 `https://` 协议，通过你刚刚创建的用户名和密码访问 Git 版本库。\n",
    "\n",
    "如果你习惯使用 SSH 访问，你需要配置一个公钥。在窗口右上角的下拉菜单中点击 `Settings`，选择 `SSH and GPG keys`，在这个页面点击 `New SSH key`:\n",
    "\n",
    "```{image} ../images/hub1.jpg\n",
    ":alt: hub1\n",
    ":class: bg-primary mb-1\n",
    ":width: 800px\n",
    ":align: center\n",
    "```\n",
    "\n",
    "给你的公钥起个名字，将你的 `~/.ssh/id_rsa.pub` 公钥文件的内容粘贴到文本区，然后点击 `Add SSH key`。之后在这台机器上就可以无需使用账号和密码访问 Git 版本库了。"
   ]
  },
  {
   "cell_type": "markdown",
   "id": "59363c5d-2570-43c4-94eb-5b3909d50e58",
   "metadata": {},
   "source": [
    "## 邮件地址\n",
    "\n",
    "GitHub 使用用户邮件地址来区分 Git 提交。如果你在自己的提交中使用了多个邮件地址，希望 GitHub 可以正确地将它们联系起来，你需要在 `Settings` 中的 `Emails` 部分添加你的邮箱地址。"
   ]
  },
  {
   "cell_type": "markdown",
   "id": "d5c1f6ef-f3f1-4ffb-a395-a3826fb583aa",
   "metadata": {},
   "source": [
    "## 两步验证\n",
    "\n",
    "最后，为了额外的安全性，你绝对应当设置两步验证（2FA）。两步验证是一种用于降低因你的密码被盗而带来的账户风险的验证机制，开启两步验证，GitHub 会要求你用两种不同的验证方法，这样，即使其中一个被攻破，攻击者也不能访问你的账户。\n",
    "\n",
    "你可以在 `Settings` 的 `Password and authentication` 页面中找到 `Two-factor authentication` 设置。\n",
    "\n",
    "```{image} ../images/hub2.jpg\n",
    ":alt: hub2\n",
    ":class: bg-primary mb-1\n",
    ":width: 800px\n",
    ":align: center\n",
    "```\n",
    "\n",
    "点击 `Enable two-factor authentication` 按钮会跳到设置页面。该页面允许你选择是要在登录时使用 A time-based one-time password (TOTP) app 生成辅助码（可以去应用商店下载，只有苹果手机适用），还是要 GitHub 通过 SMS 短信发送辅助码（大陆手机不适用）。\n",
    "\n",
    "GitHub Enterprise Cloud will only ask you to provide your 2FA authentication code again if you've logged out, are using a new device, or your session expires."
   ]
  },
  {
   "cell_type": "code",
   "execution_count": null,
   "id": "df79be46-986a-483d-9d6d-1a118c39f8c0",
   "metadata": {},
   "outputs": [],
   "source": []
  }
 ],
 "metadata": {
  "kernelspec": {
   "display_name": "Python 3",
   "language": "python",
   "name": "python3"
  },
  "language_info": {
   "codemirror_mode": {
    "name": "ipython",
    "version": 3
   },
   "file_extension": ".py",
   "mimetype": "text/x-python",
   "name": "python",
   "nbconvert_exporter": "python",
   "pygments_lexer": "ipython3",
   "version": "3.8.3"
  }
 },
 "nbformat": 4,
 "nbformat_minor": 5
}
