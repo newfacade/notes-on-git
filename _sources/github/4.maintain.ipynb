{
 "cells": [
  {
   "cell_type": "markdown",
   "id": "d22e45a3-87b7-4576-861d-413f58173012",
   "metadata": {},
   "source": [
    "# GitHub - 维护项目\n",
    "\n",
    "```{note}\n",
    "现在我们可以很方便地向一个项目贡献内容，本节我们来看另一方面：创建、维护和管理你自己的项目。\n",
    "```"
   ]
  },
  {
   "cell_type": "markdown",
   "id": "4fc63072-1fb8-40f8-99e8-a3188d6f35bd",
   "metadata": {},
   "source": [
    "## 创建新仓库\n",
    "\n",
    "点击右上角 + 里的 New repository 按钮创建新仓库。"
   ]
  },
  {
   "cell_type": "markdown",
   "id": "5f573937-d67a-44a8-b8e9-163ee80a46bb",
   "metadata": {},
   "source": [
    "## 添加合作者\n",
    "\n",
    "如果你想与他人合作，你需要把他们添加为 `Collaborators`。点击项目页的 Settings -> Collaborators -> Add people 可以添加合作者，这样做会给他们推送权限。\n",
    "\n",
    "```{image} ../images/hub6.jpg\n",
    ":alt: hub6\n",
    ":class: bg-primary mb-1\n",
    ":width: 800px\n",
    ":align: center\n",
    "```"
   ]
  },
  {
   "cell_type": "markdown",
   "id": "0d307458-baf8-447f-bbfc-03d63705907b",
   "metadata": {},
   "source": [
    "## 管理合并请求\n",
    "\n",
    "现在你有一个包含一些项目的代码，可能还有几个有推送权限的合作者，下面来看当你收到合并请求时该做什么。\n",
    "\n",
    "### 邮件通知\n",
    "\n",
    "有人来修改你的代码，给你发了一个合并请求。你会收到一封关于合并请求的提醒邮件。\n",
    "\n",
    "### 在合并请求上合作\n",
    "\n",
    "就像我们在“对项目做出贡献”那节中说过的，现在你可以跟开启合并请求的人进行会话。你既可以对某些代码发表评论，也可以对整个提交或整个合并请求发表评论，在任何地方你都可以用 GitHub 风格的 Markdown。"
   ]
  },
  {
   "cell_type": "code",
   "execution_count": null,
   "id": "a7b07e33-c1a7-47a9-a51c-b250cef86a6f",
   "metadata": {},
   "outputs": [],
   "source": []
  }
 ],
 "metadata": {
  "kernelspec": {
   "display_name": "Python 3",
   "language": "python",
   "name": "python3"
  },
  "language_info": {
   "codemirror_mode": {
    "name": "ipython",
    "version": 3
   },
   "file_extension": ".py",
   "mimetype": "text/x-python",
   "name": "python",
   "nbconvert_exporter": "python",
   "pygments_lexer": "ipython3",
   "version": "3.8.3"
  }
 },
 "nbformat": 4,
 "nbformat_minor": 5
}
