{
 "cells": [
  {
   "cell_type": "markdown",
   "id": "edb1982c-839f-4aa0-8a90-9bd06a64aff1",
   "metadata": {},
   "source": [
    "# GitHub\n",
    "\n",
    "```{note}\n",
    "GitHub 是最大的 Git 版本库托管商，是成千上万的开发者和项目能够合作进行的中心。如果想要专业地使用 Git，你将不可比避免地与 GitHub 打交道。<br>\n",
    "本章将讨论如何高效地使用 GitHub。我们将学习如何注册和管理账户、创建和使用 Git 版本库、向已有项目贡献的通用流程以及如何接受别人向你自己项目的贡献。\n",
    "```\n",
    "\n",
    "```{tableofcontents}\n",
    "```"
   ]
  },
  {
   "cell_type": "code",
   "execution_count": null,
   "id": "322b48e7-5f67-483b-8764-0fd15f6efb60",
   "metadata": {},
   "outputs": [],
   "source": []
  }
 ],
 "metadata": {
  "kernelspec": {
   "display_name": "Python 3",
   "language": "python",
   "name": "python3"
  },
  "language_info": {
   "codemirror_mode": {
    "name": "ipython",
    "version": 3
   },
   "file_extension": ".py",
   "mimetype": "text/x-python",
   "name": "python",
   "nbconvert_exporter": "python",
   "pygments_lexer": "ipython3",
   "version": "3.8.3"
  }
 },
 "nbformat": 4,
 "nbformat_minor": 5
}
